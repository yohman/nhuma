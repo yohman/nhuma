{
 "cells": [
  {
   "cell_type": "code",
   "execution_count": 3,
   "metadata": {},
   "outputs": [
    {
     "name": "stdout",
     "output_type": "stream",
     "text": [
      "Collecting Pillow\n",
      "  Using cached pillow-11.1.0-cp312-cp312-macosx_11_0_arm64.whl.metadata (9.1 kB)\n",
      "Using cached pillow-11.1.0-cp312-cp312-macosx_11_0_arm64.whl (3.1 MB)\n",
      "Installing collected packages: Pillow\n",
      "Successfully installed Pillow-11.1.0\n"
     ]
    }
   ],
   "source": [
    "!pip install Pillow\n"
   ]
  },
  {
   "cell_type": "code",
   "execution_count": 4,
   "metadata": {},
   "outputs": [],
   "source": [
    "from PIL import Image, ImageSequence\n",
    "\n",
    "# Open the GIF file\n",
    "gif = Image.open('walk.gif')\n",
    "\n",
    "# Create a list to hold the processed frames\n",
    "frames = []\n",
    "\n",
    "# Loop through each frame in the GIF\n",
    "for frame in ImageSequence.Iterator(gif):\n",
    "    # Convert the frame to RGBA mode\n",
    "    frame = frame.convert('RGBA')\n",
    "    \n",
    "    # Get the data of the frame\n",
    "    datas = frame.getdata()\n",
    "    \n",
    "    # Create a new data list to hold the modified pixel data\n",
    "    new_data = []\n",
    "    \n",
    "    # Loop through each pixel in the frame\n",
    "    for item in datas:\n",
    "        # Change all white (also shades of whites)\n",
    "        # pixels to transparent\n",
    "        if item[0] > 200 and item[1] > 200 and item[2] > 200:\n",
    "            # Change the pixel to transparent\n",
    "            new_data.append((255, 255, 255, 0))\n",
    "        else:\n",
    "            new_data.append(item)\n",
    "    \n",
    "    # Update the frame with the new data\n",
    "    frame.putdata(new_data)\n",
    "    \n",
    "    # Append the modified frame to the frames list\n",
    "    frames.append(frame)\n",
    "\n",
    "# Save the frames as a new GIF\n",
    "frames[0].save('walk_transparent.gif', save_all=True, append_images=frames[1:], loop=0)"
   ]
  }
 ],
 "metadata": {
  "kernelspec": {
   "display_name": "base",
   "language": "python",
   "name": "python3"
  },
  "language_info": {
   "codemirror_mode": {
    "name": "ipython",
    "version": 3
   },
   "file_extension": ".py",
   "mimetype": "text/x-python",
   "name": "python",
   "nbconvert_exporter": "python",
   "pygments_lexer": "ipython3",
   "version": "3.12.3"
  }
 },
 "nbformat": 4,
 "nbformat_minor": 2
}
